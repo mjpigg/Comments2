{
 "cells": [
  {
   "cell_type": "markdown",
   "metadata": {
    "collapsed": false
   },
   "source": [
    "## The *New York Times* Puzzle Challenge (v. 1.8)\n",
    "\n",
    "\n",
    "The *New York Times* has a puzzle called the **Spelling Bee** that looks like this:\n",
    "\n",
    "<img src=\"spelling_bee.png\" width=\"300\">\n",
    "\n",
    "The object of the game is to find all the words that are 4 letters or longer that can be made using the letters in the hexagons.  The words you find **can** use letters multiple times and **must** include the middle letter.\n",
    "\n",
    "For example, these are acceptable words:\n",
    "\n",
    "    HUNT, CHUTE, THEY\n",
    "    \n",
    "But these are not:\n",
    "\n",
    "    HUT (only three letters)\n",
    "    CUTE (does not include the middle letter 'H')\n",
    "  \n",
    "SCORING:\n",
    "For every word you find you get the following points\n",
    "\n",
    "    * 0 points for word length < 4\n",
    "    * 1 point for words of length 4\n",
    "    * for all longer words, you score 1 point for each letter of the word\n",
    "    * invalid words are also 0 points (not a word or letters don't appear in puzzle)\n",
    "    \n",
    "    * Each puzzle includes at least one “pangram” which uses every letter. These are worth 7 extra points!\n",
    "    \n",
    "examples: \n",
    "\n",
    "    * HUT = 0 points\n",
    "    * HUSTLE = 0 points (no S or L in the puzzle)\n",
    "    * HUNT = 1 point\n",
    "    * CHUTE = 5 points\n",
    "    * CHUTNEY = 7 + 7 (bonus for all letters used) = 14 points"
   ]
  },
  {
   "cell_type": "markdown",
   "metadata": {
    "collapsed": false
   },
   "source": [
    "### Part 1\n",
    "Create a list of all the words in the Scrabble dictionary.  Write your code in this cell that creates the `SCRABBLE_WORDS` list using the `sowpods.txt` file.  \n",
    "\n",
    "**NOTE**:\n",
    "- Make all the words in the list UPPER CASE\n",
    "- make sure you strip any white space from the words\n",
    "\n"
   ]
  },
  {
   "cell_type": "code",
   "execution_count": 1,
   "metadata": {
    "collapsed": false
   },
   "outputs": [
   ],
   "source": [
    "SCRABBLE_WORDS = []\n",
    "    \n",
    "\n",
    "    "
   ]
  },
  {
   "cell_type": "markdown",
   "metadata": {
    "collapsed": false
   },
   "source": [
    "#### Use the cell below to do 3 things:\n",
    "\n",
    "1) Print the first 10 words in the SCRABBLE_WORDS list created above\n",
    "\n",
    "2) What is length of the longest word in the SCRABBLE_WORDS list\n",
    "\n",
    "3) How many words are as long as the answer to number 2?"
   ]
  },
  {
   "cell_type": "code",
   "execution_count": 0,
   "metadata": {
    "collapsed": false
   },
   "outputs": [
   ],
   "source": [
    "# Code for 1.1\n",
    "\n",
    "\n",
    "# Code for 1.2\n",
    "\n",
    "\n",
    "# Code for 1.3\n"
   ]
  },
  {
   "cell_type": "markdown",
   "metadata": {
    "collapsed": false
   },
   "source": [
    "### Part 2\n",
    "Your job in part 2 is to do the following:\n",
    "Write a function called `validate_word` that takes 3 **string** parameters: `required_letter`, `all_letters`, and `word`.  The function will return `True` if `word` is a valid word for the game and `False` if it is not.  You might want to review the rules above about what makes a valid word.  Only \"valid\" words score points."
   ]
  },
  {
   "cell_type": "code",
   "execution_count": 7,
   "metadata": {
    "collapsed": false
   },
   "outputs": [
   ],
   "source": [
    "# your code will REPLACE where it currently says `pass` \n",
    "\n",
    "def validate_word(required_letter: str, all_letters: str, word: str):\n",
    "    '''takes in a 3 string parameters and determines if\n",
    "    word is a valid word\n",
    "    words that score 0 are \"invalid\" words -- see score rules above\n",
    "    returns True for valid words otherwise False'''\n",
    "    pass\n",
    "\n",
    "# TEST AT LEAST ALL OF THESE WORDS: \n",
    "# Make sure your function gives the correct response for each word!\n",
    "\n",
    "test_words = ['CHUTE','HUT','HUNT','CHUTES','CHUTNEY','DRIFT','HEART']\n"
   ]
  },
  {
   "cell_type": "markdown",
   "metadata": {
    "collapsed": false
   },
   "source": [
    "### Part 3\n",
    "Write a function called `score_word` that takes 3 **string** parameters: `required_letter`, `all_letters`, and `word` and calculates how many points it would earn based on the Scoring rules.\n",
    "\n",
    "for example \n",
    "\n",
    "`score_word(\"h\",\"cehntuy\",\"hut\")` would score 0\n",
    "\n",
    "`score_word(\"h\",\"cehntuy\",\"chute\")` would score 5\n",
    "\n",
    "`score_word(\"h\",\"cehntuy\",\"chutney\")` would score 14\n",
    "\n"
   ]
  },
  {
   "cell_type": "code",
   "execution_count": 8,
   "metadata": {
    "collapsed": false
   },
   "outputs": [
   ],
   "source": [
    "# write code for part 3 here\n",
    "\n",
    "\n"
   ]
  },
  {
   "cell_type": "markdown",
   "metadata": {
    "collapsed": false
   },
   "source": [
   ]
  },
  {
   "cell_type": "markdown",
   "metadata": {
    "collapsed": false
   },
   "source": [
    "\n",
    "\n",
    "\n",
    "\n",
    "\n"
   ]
  },
  {
   "cell_type": "markdown",
   "metadata": {
    "collapsed": false,
    "slideshow": {
     "slide_type": "subslide"
    }
   },
   "source": [
    "### Part 4\n",
    "\n",
    "Using `SCRABBLE_WORDS` list created above, write a function called `spelling_bee` that takes the same `required_letter` and `all_letters` as parameters and returns a **list of tuples** of all the possible solutions to the puzzle and their score, ie: all the words from sowpods.txt that are valid solutions (more than 0 points) and their score.  This list should be ordered from the highest to lowest scoring words.\n",
    "\n",
    "You should make use of your functions above in this solution.  \n"
   ]
  },
  {
   "cell_type": "code",
   "execution_count": 5,
   "metadata": {
    "collapsed": false
   },
   "outputs": [
   ],
   "source": [
    "# Put your function for part 4 here:\n",
    "\n",
    "\n",
    "\n",
    "\n"
   ]
  },
  {
   "cell_type": "markdown",
   "metadata": {
    "collapsed": false
   },
   "source": [
    "### Part 5\n",
    "\n",
    "Go to the [New York Times version of the current puzzle](https://www.nytimes.com/puzzles/spelling-bee \"Spelling Bee Puzzle\")\n",
    "\n",
    "\n",
    "    `http://www.nytimes.com/puzzles/spelling-bee`\n",
    "\n",
    "Use your `spelling_bee` function to find all the solutions to today's puzzle. \n",
    "\n",
    "If the New York Times was using the same Scrabble Dictionary of acceptable words that we are, what is the HIGHEST TOTAL SCORE you could get playing TODAY's Puzzle"
   ]
  },
  {
   "cell_type": "code",
   "execution_count": 0,
   "metadata": {
    "collapsed": false
   },
   "outputs": [
   ],
   "source": [
    "# use spelling_bee function here on today's version of the puzzle\n",
    "\n",
    "\n",
    "# print all possible answers or the list of all the possible solutions\n",
    "\n",
    "\n",
    "# \"The highest possible total score for today's puzzle is ____\""
   ]
  }
 ],
 "metadata": {
  "kernelspec": {
   "display_name": "Python 3 (system-wide)",
   "language": "python",
   "metadata": {
    "cocalc": {
     "description": "Python 3 programming language",
     "priority": 100,
     "url": "https://www.python.org/"
    }
   },
   "name": "python3",
   "resource_dir": "/ext/jupyter/kernels/python3"
  },
  "language_info": {
   "codemirror_mode": {
    "name": "ipython",
    "version": 3
   },
   "file_extension": ".py",
   "mimetype": "text/x-python",
   "name": "python",
   "nbconvert_exporter": "python",
   "pygments_lexer": "ipython3",
   "version": "3.8.3"
  },
  "toc": {
   "base_numbering": 1,
   "nav_menu": {
   },
   "number_sections": false,
   "sideBar": true,
   "skip_h1_title": false,
   "title_cell": "Table of Contents",
   "title_sidebar": "Contents",
   "toc_cell": false,
   "toc_position": {
   },
   "toc_section_display": true,
   "toc_window_display": false
  }
 },
 "nbformat": 4,
 "nbformat_minor": 4
}